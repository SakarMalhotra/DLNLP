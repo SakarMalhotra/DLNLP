{
 "cells": [
  {
   "cell_type": "code",
   "execution_count": 1,
   "id": "7c3cac70",
   "metadata": {},
   "outputs": [],
   "source": [
    "#importing basic libraries\n",
    "import pandas as pd  \n",
    "import numpy as np \n",
    "import matplotlib.pyplot as plt\n",
    "from matplotlib import style \n",
    "\n",
    "import os\n",
    "import warnings \n",
    "warnings.filterwarnings(\"ignore\")"
   ]
  },
  {
   "cell_type": "code",
   "execution_count": 2,
   "id": "f8361aa2",
   "metadata": {},
   "outputs": [],
   "source": [
    "import re #regular expression for data cleaning \n",
    "from sklearn.feature_extraction.text import CountVectorizer #feature extraction\n",
    "import nltk #natural language toolkit\n",
    "from nltk.corpus import stopwords #stopwords\n",
    "from nltk.stem import WordNetLemmatizer #lemmatizing words"
   ]
  },
  {
   "cell_type": "code",
   "execution_count": 3,
   "id": "38d0d4c8",
   "metadata": {},
   "outputs": [],
   "source": [
    "\n",
    "from IPython.core.interactiveshell import InteractiveShell \n",
    "InteractiveShell.ast_node_interactivity = \"all\""
   ]
  },
  {
   "cell_type": "code",
   "execution_count": 4,
   "id": "425854b0",
   "metadata": {},
   "outputs": [],
   "source": [
    "pd.options.display.max_rows = 10"
   ]
  },
  {
   "cell_type": "code",
   "execution_count": 5,
   "id": "04b820f7",
   "metadata": {},
   "outputs": [],
   "source": [
    "data = pd.read_csv(\"C:\\\\Users\\\\user\\\\Downloads\\\\archive (5)\\\\K8 Reviews v0.2.CSV\")"
   ]
  },
  {
   "cell_type": "code",
   "execution_count": 6,
   "id": "359b60ce",
   "metadata": {},
   "outputs": [
    {
     "data": {
      "text/html": [
       "<div>\n",
       "<style scoped>\n",
       "    .dataframe tbody tr th:only-of-type {\n",
       "        vertical-align: middle;\n",
       "    }\n",
       "\n",
       "    .dataframe tbody tr th {\n",
       "        vertical-align: top;\n",
       "    }\n",
       "\n",
       "    .dataframe thead th {\n",
       "        text-align: right;\n",
       "    }\n",
       "</style>\n",
       "<table border=\"1\" class=\"dataframe\">\n",
       "  <thead>\n",
       "    <tr style=\"text-align: right;\">\n",
       "      <th></th>\n",
       "      <th>sentiment</th>\n",
       "      <th>review</th>\n",
       "    </tr>\n",
       "  </thead>\n",
       "  <tbody>\n",
       "    <tr>\n",
       "      <th>0</th>\n",
       "      <td>1</td>\n",
       "      <td>Good but need updates and improvements</td>\n",
       "    </tr>\n",
       "    <tr>\n",
       "      <th>1</th>\n",
       "      <td>0</td>\n",
       "      <td>Worst mobile i have bought ever, Battery is dr...</td>\n",
       "    </tr>\n",
       "    <tr>\n",
       "      <th>2</th>\n",
       "      <td>1</td>\n",
       "      <td>when I will get my 10% cash back.... its alrea...</td>\n",
       "    </tr>\n",
       "    <tr>\n",
       "      <th>3</th>\n",
       "      <td>1</td>\n",
       "      <td>Good</td>\n",
       "    </tr>\n",
       "    <tr>\n",
       "      <th>4</th>\n",
       "      <td>0</td>\n",
       "      <td>The worst phone everThey have changed the last...</td>\n",
       "    </tr>\n",
       "  </tbody>\n",
       "</table>\n",
       "</div>"
      ],
      "text/plain": [
       "   sentiment                                             review\n",
       "0          1             Good but need updates and improvements\n",
       "1          0  Worst mobile i have bought ever, Battery is dr...\n",
       "2          1  when I will get my 10% cash back.... its alrea...\n",
       "3          1                                               Good\n",
       "4          0  The worst phone everThey have changed the last..."
      ]
     },
     "execution_count": 6,
     "metadata": {},
     "output_type": "execute_result"
    }
   ],
   "source": [
    "data.head()"
   ]
  },
  {
   "cell_type": "code",
   "execution_count": 7,
   "id": "ba98a3d1",
   "metadata": {},
   "outputs": [
    {
     "name": "stdout",
     "output_type": "stream",
     "text": [
      "Rows =  14675 Columns = 2\n"
     ]
    }
   ],
   "source": [
    "rows, columns = data.shape\n",
    "print('Rows = ' , rows, 'Columns =' , columns )"
   ]
  },
  {
   "cell_type": "code",
   "execution_count": 8,
   "id": "891fcbcd",
   "metadata": {},
   "outputs": [
    {
     "name": "stdout",
     "output_type": "stream",
     "text": [
      "<class 'pandas.core.frame.DataFrame'>\n",
      "RangeIndex: 14675 entries, 0 to 14674\n",
      "Data columns (total 2 columns):\n",
      " #   Column     Non-Null Count  Dtype \n",
      "---  ------     --------------  ----- \n",
      " 0   sentiment  14675 non-null  int64 \n",
      " 1   review     14675 non-null  object\n",
      "dtypes: int64(1), object(1)\n",
      "memory usage: 229.4+ KB\n"
     ]
    }
   ],
   "source": [
    "data.info()"
   ]
  },
  {
   "cell_type": "code",
   "execution_count": 9,
   "id": "2fa9597f",
   "metadata": {},
   "outputs": [
    {
     "data": {
      "text/plain": [
       "sentiment    0\n",
       "review       0\n",
       "dtype: int64"
      ]
     },
     "execution_count": 9,
     "metadata": {},
     "output_type": "execute_result"
    }
   ],
   "source": [
    "data.isna().sum()"
   ]
  },
  {
   "cell_type": "code",
   "execution_count": 10,
   "id": "6f61a574",
   "metadata": {},
   "outputs": [
    {
     "data": {
      "text/plain": [
       "0    0.52552\n",
       "1    0.47448\n",
       "Name: sentiment, dtype: float64"
      ]
     },
     "execution_count": 10,
     "metadata": {},
     "output_type": "execute_result"
    }
   ],
   "source": [
    "data['sentiment'].value_counts(normalize = True)"
   ]
  },
  {
   "cell_type": "code",
   "execution_count": 11,
   "id": "5a26c8fc",
   "metadata": {},
   "outputs": [
    {
     "name": "stdout",
     "output_type": "stream",
     "text": [
      "Duplicate Rows :\n"
     ]
    },
    {
     "data": {
      "text/html": [
       "<div>\n",
       "<style scoped>\n",
       "    .dataframe tbody tr th:only-of-type {\n",
       "        vertical-align: middle;\n",
       "    }\n",
       "\n",
       "    .dataframe tbody tr th {\n",
       "        vertical-align: top;\n",
       "    }\n",
       "\n",
       "    .dataframe thead th {\n",
       "        text-align: right;\n",
       "    }\n",
       "</style>\n",
       "<table border=\"1\" class=\"dataframe\">\n",
       "  <thead>\n",
       "    <tr style=\"text-align: right;\">\n",
       "      <th></th>\n",
       "      <th>sentiment</th>\n",
       "      <th>review</th>\n",
       "    </tr>\n",
       "  </thead>\n",
       "  <tbody>\n",
       "    <tr>\n",
       "      <th>3</th>\n",
       "      <td>1</td>\n",
       "      <td>Good</td>\n",
       "    </tr>\n",
       "    <tr>\n",
       "      <th>10</th>\n",
       "      <td>0</td>\n",
       "      <td>Wrost</td>\n",
       "    </tr>\n",
       "    <tr>\n",
       "      <th>19</th>\n",
       "      <td>1</td>\n",
       "      <td>Good smartphone</td>\n",
       "    </tr>\n",
       "    <tr>\n",
       "      <th>20</th>\n",
       "      <td>1</td>\n",
       "      <td>good</td>\n",
       "    </tr>\n",
       "    <tr>\n",
       "      <th>46</th>\n",
       "      <td>0</td>\n",
       "      <td>Poor</td>\n",
       "    </tr>\n",
       "    <tr>\n",
       "      <th>...</th>\n",
       "      <td>...</td>\n",
       "      <td>...</td>\n",
       "    </tr>\n",
       "    <tr>\n",
       "      <th>14529</th>\n",
       "      <td>1</td>\n",
       "      <td>Good</td>\n",
       "    </tr>\n",
       "    <tr>\n",
       "      <th>14530</th>\n",
       "      <td>0</td>\n",
       "      <td>Good</td>\n",
       "    </tr>\n",
       "    <tr>\n",
       "      <th>14547</th>\n",
       "      <td>0</td>\n",
       "      <td>Waste of money</td>\n",
       "    </tr>\n",
       "    <tr>\n",
       "      <th>14553</th>\n",
       "      <td>0</td>\n",
       "      <td>Good</td>\n",
       "    </tr>\n",
       "    <tr>\n",
       "      <th>14634</th>\n",
       "      <td>0</td>\n",
       "      <td>Good</td>\n",
       "    </tr>\n",
       "  </tbody>\n",
       "</table>\n",
       "<p>1639 rows × 2 columns</p>\n",
       "</div>"
      ],
      "text/plain": [
       "       sentiment           review\n",
       "3              1             Good\n",
       "10             0            Wrost\n",
       "19             1  Good smartphone\n",
       "20             1             good\n",
       "46             0             Poor\n",
       "...          ...              ...\n",
       "14529          1             Good\n",
       "14530          0             Good\n",
       "14547          0   Waste of money\n",
       "14553          0             Good\n",
       "14634          0             Good\n",
       "\n",
       "[1639 rows x 2 columns]"
      ]
     },
     "execution_count": 11,
     "metadata": {},
     "output_type": "execute_result"
    }
   ],
   "source": [
    "duplicate = data[data.duplicated(keep = 'last')] \n",
    "print(\"Duplicate Rows :\")\n",
    "duplicate"
   ]
  },
  {
   "cell_type": "code",
   "execution_count": 12,
   "id": "482af2dd",
   "metadata": {},
   "outputs": [],
   "source": [
    "double_data = duplicate[duplicate['review'].str.len() > 60]"
   ]
  },
  {
   "cell_type": "code",
   "execution_count": 13,
   "id": "6ff1ab5a",
   "metadata": {},
   "outputs": [
    {
     "data": {
      "text/html": [
       "<div>\n",
       "<style scoped>\n",
       "    .dataframe tbody tr th:only-of-type {\n",
       "        vertical-align: middle;\n",
       "    }\n",
       "\n",
       "    .dataframe tbody tr th {\n",
       "        vertical-align: top;\n",
       "    }\n",
       "\n",
       "    .dataframe thead th {\n",
       "        text-align: right;\n",
       "    }\n",
       "</style>\n",
       "<table border=\"1\" class=\"dataframe\">\n",
       "  <thead>\n",
       "    <tr style=\"text-align: right;\">\n",
       "      <th></th>\n",
       "      <th>sentiment</th>\n",
       "      <th>review</th>\n",
       "    </tr>\n",
       "  </thead>\n",
       "  <tbody>\n",
       "    <tr>\n",
       "      <th>587</th>\n",
       "      <td>1</td>\n",
       "      <td>Superb product. Few of the feature are awesome. Duel camera, front 13mp camera, back and front flash, dedicated music button, dedicated memory card slot, free transparent case and split window for multitasking. These are some feature i like the product in my budget.</td>\n",
       "    </tr>\n",
       "    <tr>\n",
       "      <th>3802</th>\n",
       "      <td>0</td>\n",
       "      <td>It's the jack of all trades but king of none. Battery back up could have been better if they used some other processor. Battery drains quite fast. Camera is better than average. And I think there is no option to keep external media as your ringtone. Only custom build ringtones available to set as your ringtone. Kinda bums me out.Update after 3 day use:Battery back up is really horrible, normal usage like whatsapp and Instagram browsing consumes more than 25% battery in an hour or so.Then there is turbocharging issue, it starts with fast charging then after 10-20 minutes,depending upon mood, rate decreases, it took 7 hours to charge it by 40% in total.Would really appreciate if Amazon could take this matter seriously and take it up with Lenovo and return the money of its customers for defective models. I personally would not trust my 14K bucks with Lenovo or Moto from this point on.</td>\n",
       "    </tr>\n",
       "    <tr>\n",
       "      <th>4435</th>\n",
       "      <td>0</td>\n",
       "      <td>Hello,The phone starts resetting itself randomly. This issue starts after after 3 days of use, especially when you use it for longer time like watching a you tube video for an hour or two. The issue starts to repeat after 1 or 2 days, then I tried few option mentioned in Lenovo help APP which is pre-installed(I am feeling like a stupid for having done this) , after that for 4 or 5 days it didn't show this issue. Now it back with a bang and almost resets itself every night. Use the phone in night, then lock it and keep aside and when you take the phone again in the morning, boom, it is dead already. And when you manually power-on there is enough juice left in the battery. Not sure what to do with this kind of issue, the phone is absolutely useless.When I approached amazon for return, they are quoting policy and suggest me that I should run pillar to post to get problem rectified (not sure even it is rectifiable issue), The below Amazon's tagline tag-line sounds funny\" Earth's Most C...</td>\n",
       "    </tr>\n",
       "    <tr>\n",
       "      <th>5951</th>\n",
       "      <td>0</td>\n",
       "      <td>Over Heating Issue while light usage like just in internet connection, and always warm while connected to internet. this update is After usage of 10 days. Dont prefer this one.</td>\n",
       "    </tr>\n",
       "    <tr>\n",
       "      <th>6223</th>\n",
       "      <td>0</td>\n",
       "      <td>Over Heating Issue while light usage like just in internet connection, and always warm while connected to internet. this update is After usage of 10 days. Dont prefer this one.</td>\n",
       "    </tr>\n",
       "    <tr>\n",
       "      <th>9277</th>\n",
       "      <td>0</td>\n",
       "      <td>Hello,The phone starts resetting itself randomly. This issue starts after after 3 days of use, especially when you use it for longer time like watching a you tube video for an hour or two. The issue starts to repeat after 1 or 2 days, then I tried few option mentioned in Lenovo help APP which is pre-installed(I am feeling like a stupid for having done this) , after that for 4 or 5 days it didn't show this issue. Now it back with a bang and almost resets itself every night. Use the phone in night, then lock it and keep aside and when you take the phone again in the morning, boom, it is dead already. And when you manually power-on there is enough juice left in the battery. Not sure what to do with this kind of issue, the phone is absolutely useless.When I approached amazon for return, they are quoting policy and suggest me that I should run pillar to post to get problem rectified (not sure even it is rectifiable issue), The below Amazon's tagline tag-line sounds funny\" Earth's Most C...</td>\n",
       "    </tr>\n",
       "    <tr>\n",
       "      <th>9428</th>\n",
       "      <td>1</td>\n",
       "      <td>Great experience with tis amazing product from lenovo.it is equipped with almost every features that a smartphone required.deca core processor long lasting battery and 64GB internal memory with 4GB RAM is just awesome.I would certainly recommend this phone for users having usage and game lovers</td>\n",
       "    </tr>\n",
       "    <tr>\n",
       "      <th>12115</th>\n",
       "      <td>1</td>\n",
       "      <td>Great experience with tis amazing product from lenovo.it is equipped with almost every features that a smartphone required.deca core processor long lasting battery and 64GB internal memory with 4GB RAM is just awesome.I would certainly recommend this phone for users having usage and game lovers</td>\n",
       "    </tr>\n",
       "  </tbody>\n",
       "</table>\n",
       "</div>"
      ],
      "text/plain": [
       "       sentiment  \\\n",
       "587            1   \n",
       "3802           0   \n",
       "4435           0   \n",
       "5951           0   \n",
       "6223           0   \n",
       "9277           0   \n",
       "9428           1   \n",
       "12115          1   \n",
       "\n",
       "                                                                                                                                                                                                                                                                                                                                                                                                                                                                                                                                                                                                                                                                                                                                                                                                                                                                                                                                                                                                                                        review  \n",
       "587                                                                                                                                                                                                                                                                                                                                                                                                                                                                                                                                                                                                                                                                                                                                                                 Superb product. Few of the feature are awesome. Duel camera, front 13mp camera, back and front flash, dedicated music button, dedicated memory card slot, free transparent case and split window for multitasking. These are some feature i like the product in my budget.  \n",
       "3802                                                                                                            It's the jack of all trades but king of none. Battery back up could have been better if they used some other processor. Battery drains quite fast. Camera is better than average. And I think there is no option to keep external media as your ringtone. Only custom build ringtones available to set as your ringtone. Kinda bums me out.Update after 3 day use:Battery back up is really horrible, normal usage like whatsapp and Instagram browsing consumes more than 25% battery in an hour or so.Then there is turbocharging issue, it starts with fast charging then after 10-20 minutes,depending upon mood, rate decreases, it took 7 hours to charge it by 40% in total.Would really appreciate if Amazon could take this matter seriously and take it up with Lenovo and return the money of its customers for defective models. I personally would not trust my 14K bucks with Lenovo or Moto from this point on.  \n",
       "4435   Hello,The phone starts resetting itself randomly. This issue starts after after 3 days of use, especially when you use it for longer time like watching a you tube video for an hour or two. The issue starts to repeat after 1 or 2 days, then I tried few option mentioned in Lenovo help APP which is pre-installed(I am feeling like a stupid for having done this) , after that for 4 or 5 days it didn't show this issue. Now it back with a bang and almost resets itself every night. Use the phone in night, then lock it and keep aside and when you take the phone again in the morning, boom, it is dead already. And when you manually power-on there is enough juice left in the battery. Not sure what to do with this kind of issue, the phone is absolutely useless.When I approached amazon for return, they are quoting policy and suggest me that I should run pillar to post to get problem rectified (not sure even it is rectifiable issue), The below Amazon's tagline tag-line sounds funny\" Earth's Most C...  \n",
       "5951                                                                                                                                                                                                                                                                                                                                                                                                                                                                                                                                                                                                                                                                                                                                                                                                                                                          Over Heating Issue while light usage like just in internet connection, and always warm while connected to internet. this update is After usage of 10 days. Dont prefer this one.  \n",
       "6223                                                                                                                                                                                                                                                                                                                                                                                                                                                                                                                                                                                                                                                                                                                                                                                                                                                          Over Heating Issue while light usage like just in internet connection, and always warm while connected to internet. this update is After usage of 10 days. Dont prefer this one.  \n",
       "9277   Hello,The phone starts resetting itself randomly. This issue starts after after 3 days of use, especially when you use it for longer time like watching a you tube video for an hour or two. The issue starts to repeat after 1 or 2 days, then I tried few option mentioned in Lenovo help APP which is pre-installed(I am feeling like a stupid for having done this) , after that for 4 or 5 days it didn't show this issue. Now it back with a bang and almost resets itself every night. Use the phone in night, then lock it and keep aside and when you take the phone again in the morning, boom, it is dead already. And when you manually power-on there is enough juice left in the battery. Not sure what to do with this kind of issue, the phone is absolutely useless.When I approached amazon for return, they are quoting policy and suggest me that I should run pillar to post to get problem rectified (not sure even it is rectifiable issue), The below Amazon's tagline tag-line sounds funny\" Earth's Most C...  \n",
       "9428                                                                                                                                                                                                                                                                                                                                                                                                                                                                                                                                                                                                                                                                                                                                   Great experience with tis amazing product from lenovo.it is equipped with almost every features that a smartphone required.deca core processor long lasting battery and 64GB internal memory with 4GB RAM is just awesome.I would certainly recommend this phone for users having usage and game lovers  \n",
       "12115                                                                                                                                                                                                                                                                                                                                                                                                                                                                                                                                                                                                                                                                                                                                  Great experience with tis amazing product from lenovo.it is equipped with almost every features that a smartphone required.deca core processor long lasting battery and 64GB internal memory with 4GB RAM is just awesome.I would certainly recommend this phone for users having usage and game lovers  "
      ]
     },
     "execution_count": 13,
     "metadata": {},
     "output_type": "execute_result"
    }
   ],
   "source": [
    "pd.options.display.max_colwidth = 1000 # prints \n",
    "double_data"
   ]
  },
  {
   "cell_type": "code",
   "execution_count": 14,
   "id": "95855b56",
   "metadata": {},
   "outputs": [
    {
     "data": {
      "text/plain": [
       "[587, 3802, 4435, 5951, 6223, 9277, 9428, 12115]"
      ]
     },
     "execution_count": 14,
     "metadata": {},
     "output_type": "execute_result"
    }
   ],
   "source": [
    "double_data.index.values.tolist()"
   ]
  },
  {
   "cell_type": "code",
   "execution_count": 15,
   "id": "59594e28",
   "metadata": {},
   "outputs": [],
   "source": [
    "\n",
    "data.drop(data.index[double_data.index.values.tolist()], inplace=True)"
   ]
  },
  {
   "cell_type": "markdown",
   "id": "ad7541c8",
   "metadata": {},
   "source": [
    "# Normalize casings "
   ]
  },
  {
   "cell_type": "code",
   "execution_count": 16,
   "id": "ce2d589a",
   "metadata": {},
   "outputs": [],
   "source": [
    "review_lc = [i.lower() for i in data['review']]"
   ]
  },
  {
   "cell_type": "code",
   "execution_count": 17,
   "id": "7566ab75",
   "metadata": {},
   "outputs": [],
   "source": [
    "# removing punctuation\n",
    "import string\n",
    "nopunc = (str.maketrans('','',string.punctuation))\n",
    "review_nopunc = [w.translate(nopunc) for w in review_lc]"
   ]
  },
  {
   "cell_type": "code",
   "execution_count": 18,
   "id": "6810fd3d",
   "metadata": {},
   "outputs": [
    {
     "name": "stderr",
     "output_type": "stream",
     "text": [
      "Since the GPL-licensed package `unidecode` is not installed, using Python's `unicodedata` package which yields worse results.\n"
     ]
    }
   ],
   "source": [
    "#removing emojis\n",
    "from cleantext import clean\n",
    "review_no_emoji = [clean(text, no_emoji=True) for text in review_nopunc]\n"
   ]
  },
  {
   "cell_type": "markdown",
   "id": "96cd4df5",
   "metadata": {},
   "source": [
    "# Tokenize "
   ]
  },
  {
   "cell_type": "code",
   "execution_count": 19,
   "id": "651ff223",
   "metadata": {},
   "outputs": [],
   "source": [
    "from nltk import word_tokenize\n",
    "review_tokens = [nltk.word_tokenize(i) for i in review_no_emoji]"
   ]
  },
  {
   "cell_type": "code",
   "execution_count": 20,
   "id": "3011b9bc",
   "metadata": {},
   "outputs": [],
   "source": [
    "from nltk.corpus import stopwords\n",
    "SW = stopwords.words(\"english\") #stopwords\n",
    "SW.extend(['phone','lenovo','mobile'])\n",
    "SW_negation = ['no','out','down','below','against','nor','not','ain','aren',\"aren't\",'couldn',\"couldn't\",'didn',\"didn't\",'doesn',\"doesn't\",'hadn',\"hadn't\",'hasn',\"hasn't\",'haven',\"haven't\",'isn',\"isn't\",'mightn',\"mightn't\",'mustn',\"mustn't\",'needn', \"needn't\",'shan',\"shan't\",'shouldn',\"shouldn't\",'wasn',\"wasn't\",'weren',\"weren't\",'won',\"won't\",'wouldn',\"wouldn't\"]\n",
    "\n",
    "SW_updated = [i for i in SW if i not in SW_negation]\n",
    "review_no_SW  = []\n",
    "for sentence_list in review_tokens:\n",
    "    word_list = []\n",
    "    for word in sentence_list: \n",
    "        if word not in SW_updated : \n",
    "            word_list.append(word)\n",
    "    review_no_SW .append(word_list)"
   ]
  },
  {
   "cell_type": "code",
   "execution_count": 21,
   "id": "b4c66fd1",
   "metadata": {},
   "outputs": [],
   "source": [
    "from nltk import pos_tag\n",
    "review_pos_tag = [nltk.pos_tag(i) for i in review_no_SW if not str(i).isdigit()]"
   ]
  },
  {
   "cell_type": "code",
   "execution_count": 22,
   "id": "88b35964",
   "metadata": {},
   "outputs": [
    {
     "data": {
      "text/plain": [
       "[('good', 'JJ'), ('need', 'NN'), ('updates', 'NNS'), ('improvements', 'NNS')]"
      ]
     },
     "execution_count": 22,
     "metadata": {},
     "output_type": "execute_result"
    }
   ],
   "source": [
    "pd.options.display.max_colwidth = 10\n",
    "review_pos_tag[0] # Just for understanding how list is"
   ]
  },
  {
   "cell_type": "code",
   "execution_count": 23,
   "id": "837a751d",
   "metadata": {},
   "outputs": [],
   "source": [
    "def Get_Nouns(POSTags):\n",
    "    Noun_Forms=['NN','NNP','NNS','NNPS']\n",
    "    words = [word for word,tag in POSTags if tag in Noun_Forms]\n",
    "    return words"
   ]
  },
  {
   "cell_type": "code",
   "execution_count": 24,
   "id": "49b12427",
   "metadata": {},
   "outputs": [],
   "source": [
    "review_nouns = [Get_Nouns(i) for i in review_pos_tag]"
   ]
  },
  {
   "cell_type": "code",
   "execution_count": 25,
   "id": "e18e4dfa",
   "metadata": {},
   "outputs": [
    {
     "data": {
      "text/plain": [
       "[['need', 'updates', 'improvements'],\n",
       " ['hell',\n",
       "  'backup',\n",
       "  'hours',\n",
       "  'uses',\n",
       "  'lie',\n",
       "  'amazon',\n",
       "  'battery',\n",
       "  'booster',\n",
       "  'charger',\n",
       "  'hours',\n",
       "  'usplease',\n",
       "  'dont'],\n",
       " ['cash']]"
      ]
     },
     "execution_count": 25,
     "metadata": {},
     "output_type": "execute_result"
    }
   ],
   "source": [
    "review_nouns[0:3]"
   ]
  },
  {
   "cell_type": "code",
   "execution_count": 26,
   "id": "dac0b8e0",
   "metadata": {},
   "outputs": [],
   "source": [
    "def Get_Verbs(POSTags):\n",
    "    Verb_Forms=['VB','VBP','VBZ','VBG','VBD','VBN']\n",
    "    words = [word for word,tag in POSTags if tag in Verb_Forms]\n",
    "    return words"
   ]
  },
  {
   "cell_type": "code",
   "execution_count": 27,
   "id": "79f2e11b",
   "metadata": {},
   "outputs": [],
   "source": [
    "review_verbs = [Get_Verbs(i) for i in review_pos_tag]"
   ]
  },
  {
   "cell_type": "markdown",
   "id": "ac3bdc25",
   "metadata": {},
   "source": [
    "# Lemmatize."
   ]
  },
  {
   "cell_type": "code",
   "execution_count": 28,
   "id": "1c43aa5f",
   "metadata": {},
   "outputs": [
    {
     "data": {
      "text/plain": [
       "[['need', 'update', 'improvement'],\n",
       " ['hell',\n",
       "  'backup',\n",
       "  'hour',\n",
       "  'us',\n",
       "  'lie',\n",
       "  'amazon',\n",
       "  'battery',\n",
       "  'booster',\n",
       "  'charger',\n",
       "  'hour',\n",
       "  'usplease',\n",
       "  'dont'],\n",
       " ['cash']]"
      ]
     },
     "execution_count": 28,
     "metadata": {},
     "output_type": "execute_result"
    }
   ],
   "source": [
    "from nltk.stem import wordnet\n",
    "lem = wordnet.WordNetLemmatizer()\n",
    "\n",
    "def lem_list_of_words(words_list): \n",
    "    return [lem.lemmatize(i,pos=\"n\") for i in words_list]\n",
    "\n",
    "review_lem = [lem_list_of_words(words_list) for words_list in review_nouns]\n",
    "review_lem[0:3]"
   ]
  },
  {
   "cell_type": "code",
   "execution_count": 29,
   "id": "dea8a39a",
   "metadata": {},
   "outputs": [],
   "source": [
    "def lem_list_of_verb_words(words_list): \n",
    "    return [lem.lemmatize(i, pos =\"v\") for i in words_list]\n",
    "\n",
    "review_lem_verb = [lem_list_of_verb_words(words_list) for words_list in review_verbs]"
   ]
  },
  {
   "cell_type": "markdown",
   "id": "f92fa3b0",
   "metadata": {},
   "source": [
    "# Remove stopwords and punctuation "
   ]
  },
  {
   "cell_type": "code",
   "execution_count": 30,
   "id": "fed1ea18",
   "metadata": {},
   "outputs": [],
   "source": [
    "word_list = [word for pos_tag_tuple_list in review_pos_tag for word,pos_tag in pos_tag_tuple_list]"
   ]
  },
  {
   "cell_type": "code",
   "execution_count": 31,
   "id": "22370ecb",
   "metadata": {},
   "outputs": [],
   "source": [
    "nouns_list = [word for noun_sent_list in review_lem for word in noun_sent_list]\n",
    "verb_list =  [word for verb_sent_list in review_lem_verb for word in verb_sent_list]"
   ]
  },
  {
   "cell_type": "code",
   "execution_count": 32,
   "id": "e8fb5489",
   "metadata": {},
   "outputs": [
    {
     "data": {
      "text/plain": [
       "<Figure size 1440x720 with 0 Axes>"
      ]
     },
     "execution_count": 32,
     "metadata": {},
     "output_type": "execute_result"
    },
    {
     "data": {
      "text/plain": [
       "<BarContainer object of 20 artists>"
      ]
     },
     "execution_count": 32,
     "metadata": {},
     "output_type": "execute_result"
    },
    {
     "data": {
      "text/plain": [
       "Text(0.5, 1.0, '20 most frequently used words')"
      ]
     },
     "execution_count": 32,
     "metadata": {},
     "output_type": "execute_result"
    },
    {
     "data": {
      "image/png": "[encoded data removed]",
      "text/plain": [
       "<Figure size 1440x720 with 1 Axes>"
      ]
     },
     "metadata": {
      "needs_background": "light"
     },
     "output_type": "display_data"
    }
   ],
   "source": [
    "from collections import Counter\n",
    "word_freq_cnt = Counter(word_list)\n",
    "# Plotting the most commonly used words:\n",
    "import matplotlib.pyplot as plt\n",
    "%matplotlib inline\n",
    "words=[]\n",
    "values=[]\n",
    "for item, frequency in word_freq_cnt.most_common(20):\n",
    "    words.append(item) \n",
    "    values.append(frequency)\n",
    "plt.figure(figsize= (20,10))\n",
    "plt.bar(words, values)\n",
    "plt.title('20 most frequently used words', size=30) \n",
    "plt.show()"
   ]
  },
  {
   "cell_type": "code",
   "execution_count": 33,
   "id": "9492b62b",
   "metadata": {},
   "outputs": [
    {
     "data": {
      "text/plain": [
       "<Figure size 1440x720 with 0 Axes>"
      ]
     },
     "execution_count": 33,
     "metadata": {},
     "output_type": "execute_result"
    },
    {
     "data": {
      "text/plain": [
       "<BarContainer object of 15 artists>"
      ]
     },
     "execution_count": 33,
     "metadata": {},
     "output_type": "execute_result"
    },
    {
     "data": {
      "text/plain": [
       "Text(0.5, 1.0, '15 most frequently used Nouns')"
      ]
     },
     "execution_count": 33,
     "metadata": {},
     "output_type": "execute_result"
    },
    {
     "data": {
      "image/png": "[encoded data removed]",
      "text/plain": [
       "<Figure size 1440x720 with 1 Axes>"
      ]
     },
     "metadata": {
      "needs_background": "light"
     },
     "output_type": "display_data"
    }
   ],
   "source": [
    "noun_freq_cnt = Counter(nouns_list)\n",
    "# Plotting the most commonly used nouns:\n",
    "import matplotlib.pyplot as plt\n",
    "%matplotlib inline\n",
    "words=[]\n",
    "values=[]\n",
    "for item, frequency in noun_freq_cnt.most_common(15):\n",
    "    words.append(item) \n",
    "    values.append(frequency)\n",
    "plt.figure(figsize= (20,10))\n",
    "plt.bar(words, values)\n",
    "plt.title('15 most frequently used Nouns', size=30) \n",
    "plt.show()"
   ]
  },
  {
   "cell_type": "code",
   "execution_count": 34,
   "id": "3bac3347",
   "metadata": {},
   "outputs": [
    {
     "data": {
      "text/plain": [
       "<Figure size 1440x720 with 0 Axes>"
      ]
     },
     "execution_count": 34,
     "metadata": {},
     "output_type": "execute_result"
    },
    {
     "data": {
      "text/plain": [
       "<BarContainer object of 15 artists>"
      ]
     },
     "execution_count": 34,
     "metadata": {},
     "output_type": "execute_result"
    },
    {
     "data": {
      "text/plain": [
       "Text(0.5, 1.0, '15 most frequently Verbs')"
      ]
     },
     "execution_count": 34,
     "metadata": {},
     "output_type": "execute_result"
    },
    {
     "data": {
      "image/png": "[encoded data removed]",
      "text/plain": [
       "<Figure size 1440x720 with 1 Axes>"
      ]
     },
     "metadata": {
      "needs_background": "light"
     },
     "output_type": "display_data"
    }
   ],
   "source": [
    "verb_freq_cnt = Counter(verb_list)\n",
    "# Plotting the most commonly used nouns:\n",
    "import matplotlib.pyplot as plt\n",
    "%matplotlib inline\n",
    "words=[]\n",
    "values=[]\n",
    "for item, frequency in verb_freq_cnt.most_common(15):\n",
    "    words.append(item) \n",
    "    values.append(frequency)\n",
    "plt.figure(figsize= (20,10))\n",
    "plt.bar(words, values)\n",
    "plt.title('15 most frequently Verbs', size=30) \n",
    "plt.show()"
   ]
  },
  {
   "cell_type": "code",
   "execution_count": 35,
   "id": "ea883fc8",
   "metadata": {},
   "outputs": [],
   "source": [
    "#Create a topic model using LDA"
   ]
  },
  {
   "cell_type": "code",
   "execution_count": 36,
   "id": "b98eefc2",
   "metadata": {},
   "outputs": [],
   "source": [
    "import gensim.corpora as corpora\n"
   ]
  },
  {
   "cell_type": "code",
   "execution_count": 37,
   "id": "81ae0bbf",
   "metadata": {},
   "outputs": [],
   "source": [
    "from gensim import models"
   ]
  },
  {
   "cell_type": "code",
   "execution_count": 38,
   "id": "d4853fbe",
   "metadata": {},
   "outputs": [
    {
     "name": "stdout",
     "output_type": "stream",
     "text": [
      "Note: you may need to restart the kernel to use updated packages.\n"
     ]
    },
    {
     "name": "stderr",
     "output_type": "stream",
     "text": [
      "'C:\\Users\\user\\Downloads\\New' is not recognized as an internal or external command,\n",
      "operable program or batch file.\n"
     ]
    }
   ],
   "source": [
    "pip install gensim"
   ]
  },
  {
   "cell_type": "code",
   "execution_count": 39,
   "id": "183a7b3d",
   "metadata": {},
   "outputs": [],
   "source": [
    "import gensim\n",
    "from gensim import models\n",
    "from gensim.models import Word2Vec, KeyedVectors\n"
   ]
  },
  {
   "cell_type": "code",
   "execution_count": 40,
   "id": "b4318187",
   "metadata": {},
   "outputs": [
    {
     "data": {
      "text/plain": [
       "[[(0, 1), (1, 1), (2, 1)],\n",
       " [(3, 1), (4, 1), (5, 1), (6, 1), (7, 1), (8, 1), (9, 2)],\n",
       " [(10, 1)]]"
      ]
     },
     "execution_count": 40,
     "metadata": {},
     "output_type": "execute_result"
    }
   ],
   "source": [
    "# Creating dictionary and applying filter to select few words\n",
    "dic_res = gensim.corpora.Dictionary(review_lem) #Creates a dictionary for all words in Corpora\n",
    "dic_res.filter_extremes(no_below = 25, # Keep tokens which are contained in at least no_below documents.\n",
    "                        no_above = 0.8, # Keep tokens which are contained in no more than no_above documents (fraction of total corpus size, not an absolute number).\n",
    "                        keep_n = None) #Keep only the first keep_n most frequent tokens.\n",
    "\n",
    "# Convert document into the bag-of-words (BoW) format = list of (token_id, token_count) tuples.\n",
    "bow_corpus = [dic_res.doc2bow(doc) for doc in review_lem] \n",
    "bow_corpus[0:3] # corpus for input data"
   ]
  },
  {
   "cell_type": "code",
   "execution_count": 41,
   "id": "53802315",
   "metadata": {},
   "outputs": [
    {
     "name": "stdout",
     "output_type": "stream",
     "text": [
      "No of words in dictionary after filtering is: 384\n"
     ]
    }
   ],
   "source": [
    "print(\"No of words in dictionary after filtering is: {}\".format(len(dic_res)))"
   ]
  },
  {
   "cell_type": "code",
   "execution_count": 42,
   "id": "571eb82a",
   "metadata": {},
   "outputs": [
    {
     "name": "stdout",
     "output_type": "stream",
     "text": [
      "0 improvement\n",
      "1 need\n",
      "2 update\n",
      "3 amazon\n",
      "4 backup\n",
      "5 battery\n",
      "6 charger\n",
      "7 dont\n",
      "8 hell\n",
      "9 hour\n"
     ]
    }
   ],
   "source": [
    "# Demonstrate how words are connected to numbers in dictionary after filtering\n",
    "for k, v in dic_res.iteritems():\n",
    "    if k<10:\n",
    "        print(k, v) "
   ]
  },
  {
   "cell_type": "code",
   "execution_count": 43,
   "id": "5de74eb1",
   "metadata": {},
   "outputs": [
    {
     "name": "stdout",
     "output_type": "stream",
     "text": [
      "Coherence score with 12 Topics is:  -5.552019708233949\n"
     ]
    }
   ],
   "source": [
    "lda_model =  gensim.models.LdaMulticore(bow_corpus, num_topics = 12,id2word = dic_res, iterations= 5000, passes = 10,workers = 2)\n",
    "from gensim.models import CoherenceModel\n",
    "coherence_model = CoherenceModel(model= lda_model,texts= review_lem,dictionary=dic_res,coherence='u_mass')\n",
    "print('Coherence score with 12 Topics is: ', coherence_model.get_coherence())"
   ]
  },
  {
   "cell_type": "code",
   "execution_count": 44,
   "id": "b5b51ac9",
   "metadata": {},
   "outputs": [
    {
     "name": "stdout",
     "output_type": "stream",
     "text": [
      "Topic: 0 \n",
      "Words: 0.218*\"price\" + 0.119*\"feature\" + 0.082*\"range\" + 0.049*\"month\" + 0.027*\"im\" + 0.024*\"smartphone\" + 0.023*\"handset\" + 0.023*\"card\" + 0.021*\"review\" + 0.021*\"slot\"\n",
      "\n",
      "\n",
      "Topic: 1 \n",
      "Words: 0.152*\"time\" + 0.102*\"charger\" + 0.048*\"turbo\" + 0.046*\"charge\" + 0.045*\"display\" + 0.036*\"music\" + 0.033*\"experience\" + 0.032*\"work\" + 0.023*\"bit\" + 0.021*\"thanks\"\n",
      "\n",
      "\n",
      "Topic: 2 \n",
      "Words: 0.330*\"product\" + 0.075*\"service\" + 0.064*\"amazon\" + 0.040*\"return\" + 0.037*\"please\" + 0.031*\"customer\" + 0.023*\"replacement\" + 0.023*\"day\" + 0.020*\"center\" + 0.019*\"purchase\"\n",
      "\n",
      "\n",
      "Topic: 3 \n",
      "Words: 0.093*\"day\" + 0.064*\"device\" + 0.028*\"software\" + 0.022*\"issue\" + 0.019*\"note\" + 0.018*\"usage\" + 0.018*\"use\" + 0.018*\"phone\" + 0.017*\"feel\" + 0.016*\"game\"\n",
      "\n",
      "\n",
      "Topic: 4 \n",
      "Words: 0.146*\"note\" + 0.071*\"k8\" + 0.059*\"call\" + 0.040*\"option\" + 0.037*\"screen\" + 0.028*\"feature\" + 0.028*\"hai\" + 0.022*\"dolby\" + 0.019*\"cast\" + 0.017*\"doesnt\"\n",
      "\n",
      "\n",
      "Topic: 5 \n",
      "Words: 0.071*\"superb\" + 0.069*\"everything\" + 0.067*\"awesome\" + 0.064*\"budget\" + 0.044*\"look\" + 0.040*\"earphone\" + 0.039*\"camera\" + 0.038*\"stock\" + 0.037*\"expectation\" + 0.037*\"clarity\"\n",
      "\n",
      "\n",
      "Topic: 6 \n",
      "Words: 0.330*\"problem\" + 0.087*\"network\" + 0.074*\"heating\" + 0.051*\"sim\" + 0.033*\"jio\" + 0.033*\"excellent\" + 0.032*\"update\" + 0.029*\"ok\" + 0.018*\"volta\" + 0.016*\"call\"\n",
      "\n",
      "\n",
      "Topic: 7 \n",
      "Words: 0.168*\"money\" + 0.081*\"heat\" + 0.080*\"waste\" + 0.072*\"speaker\" + 0.065*\"value\" + 0.052*\"glass\" + 0.036*\"use\" + 0.028*\"side\" + 0.027*\"gorilla\" + 0.025*\"game\"\n",
      "\n",
      "\n",
      "Topic: 8 \n",
      "Words: 0.342*\"battery\" + 0.076*\"backup\" + 0.045*\"hour\" + 0.042*\"life\" + 0.041*\"camera\" + 0.036*\"processor\" + 0.032*\"drain\" + 0.032*\"performance\" + 0.030*\"charge\" + 0.017*\"hr\"\n",
      "\n",
      "\n",
      "Topic: 9 \n",
      "Words: 0.317*\"quality\" + 0.203*\"camera\" + 0.042*\"battery\" + 0.032*\"picture\" + 0.027*\"photo\" + 0.025*\"effect\" + 0.022*\"image\" + 0.020*\"average\" + 0.019*\"speed\" + 0.019*\"cam\"\n",
      "\n",
      "\n",
      "Topic: 10 \n",
      "Words: 0.351*\"camera\" + 0.130*\"performance\" + 0.041*\"mode\" + 0.030*\"h\" + 0.030*\"depth\" + 0.026*\"front\" + 0.023*\"headphone\" + 0.018*\"feature\" + 0.016*\"system\" + 0.016*\"sound\"\n",
      "\n",
      "\n",
      "Topic: 11 \n",
      "Words: 0.287*\"issue\" + 0.090*\"buy\" + 0.082*\"dont\" + 0.053*\"delivery\" + 0.041*\"battery\" + 0.033*\"time\" + 0.033*\"lot\" + 0.031*\"super\" + 0.028*\"heating\" + 0.026*\"network\"\n",
      "\n",
      "\n"
     ]
    }
   ],
   "source": [
    "# Generating words of  Each topic:\n",
    "for idx, topic in lda_model.print_topics(-1):\n",
    "            print(\"Topic: {} \\nWords: {}\".format(idx, topic ))\n",
    "            print(\"\\n\")      "
   ]
  },
  {
   "cell_type": "code",
   "execution_count": 45,
   "id": "5137b300",
   "metadata": {},
   "outputs": [],
   "source": [
    "#Analyze the topics through the business lens "
   ]
  },
  {
   "cell_type": "code",
   "execution_count": 49,
   "id": "de2ec3ef",
   "metadata": {},
   "outputs": [
    {
     "name": "stderr",
     "output_type": "stream",
     "text": [
      "C:\\Users\\user\\Downloads\\New folder\\lib\\site-packages\\ipykernel\\ipkernel.py:287: DeprecationWarning: `should_run_async` will not call `transform_cell` automatically in the future. Please pass the result to `transformed_cell` argument and any exception that happen during thetransform in `preprocessing_exc_tuple` in IPython 7.17 and above.\n",
      "  and should_run_async(code)\n"
     ]
    }
   ],
   "source": [
    "import pyLDAvis\n",
    "import pyLDAvis.gensim_models as gensimvis\n",
    "pyLDAvis.enable_notebook()\n"
   ]
  },
  {
   "cell_type": "code",
   "execution_count": 50,
   "id": "52123cf8",
   "metadata": {},
   "outputs": [
    {
     "name": "stderr",
     "output_type": "stream",
     "text": [
      "C:\\Users\\user\\Downloads\\New folder\\lib\\site-packages\\ipykernel\\ipkernel.py:287: DeprecationWarning: `should_run_async` will not call `transform_cell` automatically in the future. Please pass the result to `transformed_cell` argument and any exception that happen during thetransform in `preprocessing_exc_tuple` in IPython 7.17 and above.\n",
      "  and should_run_async(code)\n"
     ]
    },
    {
     "ename": "ModuleNotFoundError",
     "evalue": "No module named 'pyLDAvis.gensim'",
     "output_type": "error",
     "traceback": [
      "\u001b[1;31m---------------------------------------------------------------------------\u001b[0m",
      "\u001b[1;31mModuleNotFoundError\u001b[0m                       Traceback (most recent call last)",
      "\u001b[1;32m<ipython-input-50-4744d3aecd9d>\u001b[0m in \u001b[0;36m<module>\u001b[1;34m\u001b[0m\n\u001b[1;32m----> 1\u001b[1;33m \u001b[1;32mimport\u001b[0m \u001b[0mpyLDAvis\u001b[0m\u001b[1;33m.\u001b[0m\u001b[0mgensim\u001b[0m\u001b[1;33m\u001b[0m\u001b[1;33m\u001b[0m\u001b[0m\n\u001b[0m\u001b[0;32m      2\u001b[0m \u001b[1;32mimport\u001b[0m \u001b[0mpickle\u001b[0m\u001b[1;33m\u001b[0m\u001b[1;33m\u001b[0m\u001b[0m\n\u001b[0;32m      3\u001b[0m \u001b[1;32mimport\u001b[0m \u001b[0mpyLDAvis\u001b[0m\u001b[1;33m\u001b[0m\u001b[1;33m\u001b[0m\u001b[0m\n\u001b[0;32m      4\u001b[0m \u001b[1;31m# Visualize the topics\u001b[0m\u001b[1;33m\u001b[0m\u001b[1;33m\u001b[0m\u001b[1;33m\u001b[0m\u001b[0m\n\u001b[0;32m      5\u001b[0m \u001b[0mpyLDAvis\u001b[0m\u001b[1;33m.\u001b[0m\u001b[0menable_notebook\u001b[0m\u001b[1;33m(\u001b[0m\u001b[1;33m)\u001b[0m\u001b[1;33m\u001b[0m\u001b[1;33m\u001b[0m\u001b[0m\n",
      "\u001b[1;31mModuleNotFoundError\u001b[0m: No module named 'pyLDAvis.gensim'"
     ]
    }
   ],
   "source": [
    "import pyLDAvis.gensim\n",
    "import pickle \n",
    "import pyLDAvis\n",
    "# Visualize the topics\n",
    "pyLDAvis.enable_notebook()\n",
    "LDAvis_prepared = pyLDAvis.gensim.prepare(lda_model, bow_corpus, dic_res)\n",
    "LDAvis_prepared"
   ]
  },
  {
   "cell_type": "code",
   "execution_count": null,
   "id": "593e49f3",
   "metadata": {},
   "outputs": [],
   "source": []
  },
  {
   "cell_type": "code",
   "execution_count": null,
   "id": "24481550",
   "metadata": {},
   "outputs": [],
   "source": []
  }
 ],
 "metadata": {
  "kernelspec": {
   "display_name": "Python 3",
   "language": "python",
   "name": "python3"
  },
  "language_info": {
   "codemirror_mode": {
    "name": "ipython",
    "version": 3
   },
   "file_extension": ".py",
   "mimetype": "text/x-python",
   "name": "python",
   "nbconvert_exporter": "python",
   "pygments_lexer": "ipython3",
   "version": "3.8.8"
  }
 },
 "nbformat": 4,
 "nbformat_minor": 5
}
